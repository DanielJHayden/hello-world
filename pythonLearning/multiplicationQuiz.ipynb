{
 "cells": [
  {
   "cell_type": "code",
   "execution_count": null,
   "id": "360f7886-5087-4f79-95cb-143bc8a2dbef",
   "metadata": {},
   "outputs": [],
   "source": [
    "import pyinputplus as pyip\n",
    "import random, time\n",
    "\n",
    "numberOfQuestions = 10\n",
    "correctAnswers = 0\n",
    "for questionNumber in range(numberOfQuestions):\n",
    "       # Pick two random numbers:\n",
    "    num1 = random.randint(0, 9)\n",
    "    num2 = random.randint(0, 9)\n",
    "\n",
    "    prompt = '#%s: %s x %s = ' % (questionNumber, num1, num2)\n",
    "    try:\n",
    "    # Right answers are handled by allowRegexes.\n",
    "    # Wrong answers are handled by blockRegexes, with a custom message.\n",
    "        pyip.inputStr(prompt, allowRegexes=['^%s$' % (num1 * num2)],\n",
    "                          blockRegexes=[('.*', 'Incorrect!')],\n",
    "                          timeout=8, limit=3)\n",
    "    except pyip.TimeoutException:\n",
    "        print('Out of time!')\n",
    "    except pyip.RetryLimitException:\n",
    "        print('Out of tries!')\n",
    "    else:\n",
    "        # This block runs if no exceptions were raised in the try block.\n",
    "        print('Correct!')\n",
    "        correctAnswers += 1\n",
    "    time.sleep(1) # Brief pause to let user see the result.\n",
    "print('Score: %s / %s' % (correctAnswers, numberOfQuestions))"
   ]
  },
  {
   "cell_type": "code",
   "execution_count": null,
   "id": "5efb72cc-b128-425f-a10a-07fc3a3cbc11",
   "metadata": {},
   "outputs": [],
   "source": []
  }
 ],
 "metadata": {
  "kernelspec": {
   "display_name": "Python 3",
   "language": "python",
   "name": "python3"
  },
  "language_info": {
   "codemirror_mode": {
    "name": "ipython",
    "version": 3
   },
   "file_extension": ".py",
   "mimetype": "text/x-python",
   "name": "python",
   "nbconvert_exporter": "python",
   "pygments_lexer": "ipython3",
   "version": "3.9.4"
  }
 },
 "nbformat": 4,
 "nbformat_minor": 5
}
