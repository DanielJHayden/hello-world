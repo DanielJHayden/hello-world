{
 "cells": [
  {
   "cell_type": "raw",
   "id": "560cbc46-df64-45f1-9c0a-a1a8a5e705a4",
   "metadata": {},
   "source": [
    "Regex Version of the strip() Method\n",
    "Write a function that takes a string and does the same thing as the strip() string method.\n",
    "If no other arguments are passed other than the string to strip, then whitespace characters will be removed from the beginning and end of the string. \n",
    "Otherwise, the characters specified in the second argument to the function will be removed from the string."
   ]
  },
  {
   "cell_type": "raw",
   "id": "3d35b6cf-4c46-4d10-9856-5fa07d56cd20",
   "metadata": {},
   "source": [
    "#TO DO regex removes whitespace at beginning\n",
    "#TO DO and space at end\n",
    "#TO DO regex argument specifies characters to be removed\n",
    "\n",
    "test_string = '  JimmycrackCornandIdont.care1          '\n",
    "import re\n",
    "#strip whitespace from beginning\n",
    "mo = re.compile(r'^\\s*') \n",
    "#strip whitespace from both sides\n",
    "mo = re.compile(r'^\\s*(.*?)\\s*$') \n",
    "mo1 = mo.search(test_string)\n",
    "mo1.group(1)\n",
    "#TO DO regex removes characters other than whitespace\n",
    "mo = re.compile(rf\"\"\"^[\\sJi]*(.*?)[\\s1e]*$\"\"\")\n",
    "mo1 = mo.search(test_string)\n",
    "mo1.group(1)\n",
    "#Figure out how to input a run time variable into a regex\n",
    "also_strip = 'Jimmycare1'\n",
    "mo = re.search(fr\"^[\\s{also_strip}]*(.*?)[\\s{also_strip}]*$\",test_string)\n",
    "#Put into function in next cell, preserve this\n"
   ]
  },
  {
   "cell_type": "code",
   "execution_count": 50,
   "id": "1a5c1a95-f693-428a-9ed1-566119e1fd98",
   "metadata": {},
   "outputs": [
    {
     "data": {
      "text/plain": [
       "''"
      ]
     },
     "execution_count": 50,
     "metadata": {},
     "output_type": "execute_result"
    }
   ],
   "source": [
    "def mystrip(test_string, also_strip=''):\n",
    "    '''\n",
    "    pirate version of strip function, yarrr\n",
    "    '''\n",
    "    import re\n",
    "    \n",
    "    mo = re.search(fr\"\"\"\n",
    "                   ^[\\s{also_strip}]*     # remove whitespace and optional characters at start\n",
    "                   (.*?)                  # the target string to return\n",
    "                   [\\s{also_strip}]*$\"\"\"  # remove whitespace and optional characters at end\n",
    "                   ,test_string,re.VERBOSE)\n",
    "    \n",
    "    return mo.group(1)\n",
    "\n",
    "\n",
    "test_string = '  JimmycrackCornandIdont.care1          '\n",
    "mystrip(test_string, 'care1J')\n"
   ]
  },
  {
   "cell_type": "code",
   "execution_count": null,
   "id": "3fc027c5-c008-489d-9f46-4e03fc591a4e",
   "metadata": {},
   "outputs": [],
   "source": []
  }
 ],
 "metadata": {
  "kernelspec": {
   "display_name": "Python 3",
   "language": "python",
   "name": "python3"
  },
  "language_info": {
   "codemirror_mode": {
    "name": "ipython",
    "version": 3
   },
   "file_extension": ".py",
   "mimetype": "text/x-python",
   "name": "python",
   "nbconvert_exporter": "python",
   "pygments_lexer": "ipython3",
   "version": "3.9.4"
  }
 },
 "nbformat": 4,
 "nbformat_minor": 5
}
