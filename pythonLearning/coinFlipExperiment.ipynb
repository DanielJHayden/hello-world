{
 "cells": [
  {
   "cell_type": "code",
   "execution_count": 34,
   "id": "db674786-e56a-4595-a57d-45d39f4fdffc",
   "metadata": {},
   "outputs": [
    {
     "name": "stdout",
     "output_type": "stream",
     "text": [
      "Chance of streak: 959.95%\n"
     ]
    }
   ],
   "source": [
    "#Coin Flip Counter\n",
    "#Write a program that 'flips a coin' 100 times, recording the results as H or T\n",
    "#have the program count how streaks of 6\n",
    "#have it run 10,000 times\n",
    "\n",
    "def coin_flipper_100():\n",
    "    import random\n",
    "    heads_tails_log = []\n",
    "    \n",
    "    for i in range(100):\n",
    "        heads_tails_log.append(random.choice(['H','T']))\n",
    "        \n",
    "    return heads_tails_log\n",
    "\n",
    "def ht_streak_counter(list_of_flips):\n",
    "    six_in_a_row_checker = 0\n",
    "    streak_counter = 0\n",
    "    \n",
    "    for i, result in enumerate(list_of_flips):\n",
    "        \n",
    "        if result == (list_of_flips)[i - 1]:\n",
    "            six_in_a_row_checker += 1\n",
    "            \n",
    "        if six_in_a_row_checker == 5:\n",
    "            streak_counter += 1\n",
    "            six_in_a_row_checker = 0\n",
    "    \n",
    "    return streak_counter\n",
    "\n",
    "numberOfStreaks = 0\n",
    "\n",
    "for experimentNumber in range(10000):\n",
    "    numberOfStreaks += ht_streak_counter(coin_flipper_100())\n",
    "print('Chance of streak: %s%%' % (numberOfStreaks / 100))\n"
   ]
  }
 ],
 "metadata": {
  "kernelspec": {
   "display_name": "Python 3",
   "language": "python",
   "name": "python3"
  },
  "language_info": {
   "codemirror_mode": {
    "name": "ipython",
    "version": 3
   },
   "file_extension": ".py",
   "mimetype": "text/x-python",
   "name": "python",
   "nbconvert_exporter": "python",
   "pygments_lexer": "ipython3",
   "version": "3.9.4"
  }
 },
 "nbformat": 4,
 "nbformat_minor": 5
}
