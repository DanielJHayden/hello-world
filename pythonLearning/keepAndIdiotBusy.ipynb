{
 "cells": [
  {
   "cell_type": "code",
   "execution_count": 4,
   "id": "37ae36fb-873f-4452-909c-cf05dcf8082f",
   "metadata": {},
   "outputs": [
    {
     "name": "stdout",
     "output_type": "stream",
     "text": [
      "Want to know how to keep an idiot busy for hours?\n"
     ]
    },
    {
     "name": "stdin",
     "output_type": "stream",
     "text": [
      " yes\n"
     ]
    },
    {
     "name": "stdout",
     "output_type": "stream",
     "text": [
      "Want to know how to keep an idiot busy for hours?\n"
     ]
    },
    {
     "name": "stdin",
     "output_type": "stream",
     "text": [
      " YES\n"
     ]
    },
    {
     "name": "stdout",
     "output_type": "stream",
     "text": [
      "Want to know how to keep an idiot busy for hours?\n"
     ]
    },
    {
     "name": "stdin",
     "output_type": "stream",
     "text": [
      " y\n"
     ]
    },
    {
     "name": "stdout",
     "output_type": "stream",
     "text": [
      "Want to know how to keep an idiot busy for hours?\n"
     ]
    },
    {
     "name": "stdin",
     "output_type": "stream",
     "text": [
      " Y\n"
     ]
    },
    {
     "name": "stdout",
     "output_type": "stream",
     "text": [
      "Want to know how to keep an idiot busy for hours?\n"
     ]
    },
    {
     "name": "stdin",
     "output_type": "stream",
     "text": [
      " YE\n"
     ]
    },
    {
     "name": "stdout",
     "output_type": "stream",
     "text": [
      "'YE' is not a valid yes/no response.\n",
      "Want to know how to keep an idiot busy for hours?\n"
     ]
    },
    {
     "name": "stdin",
     "output_type": "stream",
     "text": [
      " YEEEEEEEE\n"
     ]
    },
    {
     "name": "stdout",
     "output_type": "stream",
     "text": [
      "'YEEEEEEEE' is not a valid yes/no response.\n",
      "Want to know how to keep an idiot busy for hours?\n"
     ]
    },
    {
     "name": "stdin",
     "output_type": "stream",
     "text": [
      " NO!\n"
     ]
    },
    {
     "name": "stdout",
     "output_type": "stream",
     "text": [
      "'NO!' is not a valid yes/no response.\n",
      "Want to know how to keep an idiot busy for hours?\n"
     ]
    },
    {
     "name": "stdin",
     "output_type": "stream",
     "text": [
      " yy\n"
     ]
    },
    {
     "name": "stdout",
     "output_type": "stream",
     "text": [
      "'yy' is not a valid yes/no response.\n",
      "Want to know how to keep an idiot busy for hours?\n"
     ]
    },
    {
     "name": "stdin",
     "output_type": "stream",
     "text": [
      " \n"
     ]
    },
    {
     "name": "stdout",
     "output_type": "stream",
     "text": [
      "Blank values are not allowed.\n",
      "Want to know how to keep an idiot busy for hours?\n"
     ]
    },
    {
     "name": "stdin",
     "output_type": "stream",
     "text": [
      " 0\n"
     ]
    },
    {
     "name": "stdout",
     "output_type": "stream",
     "text": [
      "'0' is not a valid yes/no response.\n",
      "Want to know how to keep an idiot busy for hours?\n"
     ]
    },
    {
     "name": "stdin",
     "output_type": "stream",
     "text": [
      " no\n"
     ]
    },
    {
     "name": "stdout",
     "output_type": "stream",
     "text": [
      "Thank you. Have a nice day.\n"
     ]
    }
   ],
   "source": [
    "import pyinputplus as pyip\n",
    "while True:\n",
    "    prompt = 'Want to know how to keep an idiot busy for hours?\\n'\n",
    "    response = pyip.inputYesNo(prompt)\n",
    "    if response == 'no':\n",
    "        break\n",
    "print('Thank you. Have a nice day.')\n",
    "\n"
   ]
  },
  {
   "cell_type": "code",
   "execution_count": null,
   "id": "a1405941-f77d-4609-acd5-946d9b38698c",
   "metadata": {},
   "outputs": [],
   "source": []
  }
 ],
 "metadata": {
  "kernelspec": {
   "display_name": "Python 3",
   "language": "python",
   "name": "python3"
  },
  "language_info": {
   "codemirror_mode": {
    "name": "ipython",
    "version": 3
   },
   "file_extension": ".py",
   "mimetype": "text/x-python",
   "name": "python",
   "nbconvert_exporter": "python",
   "pygments_lexer": "ipython3",
   "version": "3.9.4"
  }
 },
 "nbformat": 4,
 "nbformat_minor": 5
}
