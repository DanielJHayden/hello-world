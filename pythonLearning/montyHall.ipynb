{
 "cells": [
  {
   "cell_type": "raw",
   "id": "c2eabe40-44ec-4693-ab9d-77daf68de6ae",
   "metadata": {},
   "source": [
    "#Monty Hall Problem\n",
    "import random\n",
    "def montySwitch():\n",
    "    doors = [0, 1, 2]\n",
    "    cardoor = random.choice(doors)    \n",
    "    choice = doors[0]\n",
    "    for i in doors:\n",
    "        if i != cardoor and i != choice:\n",
    "            del doors[i]\n",
    "            break\n",
    "    choice = doors[1]\n",
    "    if choice == cardoor:\n",
    "        return True\n",
    "    else:\n",
    "        return False\n",
    "def montyStay():\n",
    "    doors = [0, 1, 2]\n",
    "    cardoor = random.choice(doors)    \n",
    "    choice = doors[0]\n",
    "    if choice == cardoor:\n",
    "        return True\n",
    "    else: \n",
    "        return False\n",
    "    \n",
    "def montyExperiment(number_of_tests_to_run):\n",
    "    switchWins = 0\n",
    "    stayWins = 0\n",
    "    for i in range(number_of_tests_to_run):\n",
    "        if montySwitch() == True:\n",
    "            switchWins += 1\n",
    "        if montyStay() == True:\n",
    "            stayWins += 1            \n",
    "    print (switchWins/ number_of_tests_to_run)\n",
    "    print (stayWins/ number_of_tests_to_run)\n",
    "\n",
    "montyExperiment(100000)"
   ]
  },
  {
   "cell_type": "code",
   "execution_count": 38,
   "id": "085d05da-9502-4686-bfec-be13acf03b42",
   "metadata": {},
   "outputs": [
    {
     "name": "stdout",
     "output_type": "stream",
     "text": [
      " Switcher won 66732 games, a 0.66732% win rate\n",
      " Stayer won 33268 games, a 0.33268% win rate\n"
     ]
    }
   ],
   "source": [
    "#Monty Hall Problem\n",
    "def montyHall(tests_to_run=1):\n",
    "    '''\n",
    "    Runs the Monty Hall problem with classic rules\n",
    "    argument : Number of times to run through the Monty Hall problem\n",
    "    returns: nothing\n",
    "    prints : # of games both strategies win with percentage win rates for each.\n",
    "    '''\n",
    "    import random\n",
    "    switchWins = 0\n",
    "    stayWins = 0\n",
    "    stayPick = 0\n",
    "    \n",
    "    for i in range(tests_to_run):\n",
    "        doors = [0, 1, 2]\n",
    "        cardoor = random.choice(doors)            \n",
    "\n",
    "        if doors[1] == cardoor:\n",
    "            del doors[2]\n",
    "        else:\n",
    "            del doors[1]\n",
    "            \n",
    "        switchPick = doors[1]\n",
    "\n",
    "        if cardoor == switchPick:\n",
    "            switchWins += 1\n",
    "        else:\n",
    "            stayWins += 1\n",
    "        \n",
    "    print (f\" Switcher won {switchWins} games, a {switchWins / tests_to_run}% win rate\\n\",\n",
    "          f\"Stayer won {stayWins} games, a {stayWins / tests_to_run}% win rate\")\n",
    "\n",
    "montyHall(100000)\n",
    "    "
   ]
  },
  {
   "cell_type": "code",
   "execution_count": null,
   "id": "61fcd94a-6260-4c03-aa25-7a242449829c",
   "metadata": {},
   "outputs": [],
   "source": []
  }
 ],
 "metadata": {
  "kernelspec": {
   "display_name": "Python 3",
   "language": "python",
   "name": "python3"
  },
  "language_info": {
   "codemirror_mode": {
    "name": "ipython",
    "version": 3
   },
   "file_extension": ".py",
   "mimetype": "text/x-python",
   "name": "python",
   "nbconvert_exporter": "python",
   "pygments_lexer": "ipython3",
   "version": "3.9.4"
  }
 },
 "nbformat": 4,
 "nbformat_minor": 5
}
