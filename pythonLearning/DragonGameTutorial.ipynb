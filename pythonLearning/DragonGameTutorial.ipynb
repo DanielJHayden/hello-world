{
 "cells": [
  {
   "cell_type": "raw",
   "id": "9cb84b2c-c91b-4cf3-8575-204b4a8037df",
   "metadata": {},
   "source": [
    "Fantasy Game Inventory\n",
    "You are creating a fantasy video game. The data structure to model the player’s inventory will be a dictionary where the keys are string values describing the item in the inventory and the value is an integer value detailing how many of that item the player has. For example, the dictionary value {'rope': 1, 'torch': 6, 'gold coin': 42, 'dagger': 1, 'arrow': 12} means the player has 1 rope, 6 torches, 42 gold coins, and so on.\n",
    "\n",
    "Write a function named displayInventory() that would take any possible “inventory” and display it like the following:\n",
    "\n",
    "Inventory:\n",
    "12 arrow\n",
    "42 gold coin\n",
    "1 rope\n",
    "6 torch\n",
    "1 dagger\n",
    "Total number of items: 62\n",
    "\n",
    "Hint: You can use a for loop to loop through all the keys in a dictionary.\n",
    "\n",
    "# inventory.py\n",
    "stuff = {'rope': 1, 'torch': 6, 'gold coin': 42, 'dagger': 1, 'arrow': 12}\n",
    "\n",
    "def displayInventory(inventory):\n",
    "    print(\"Inventory:\")\n",
    "    item_total = 0\n",
    "    for k, v in inventory.items():\n",
    "        # FILL THIS PART IN\n",
    "    print(\"Total number of items: \" + str(item_total))\n",
    "\n",
    "displayInventory(stuff)"
   ]
  },
  {
   "cell_type": "code",
   "execution_count": 22,
   "id": "2fe207da-2429-4108-9000-f740c0399b8b",
   "metadata": {},
   "outputs": [
    {
     "name": "stdout",
     "output_type": "stream",
     "text": [
      "Inventory:\n",
      "rope 1\n",
      "torch 6\n",
      "gold coin 42\n",
      "dagger 1\n",
      "arrow 12\n",
      "Total number of items: 62\n"
     ]
    }
   ],
   "source": [
    "stuff = {'rope': 1, 'torch': 6, 'gold coin': 42, 'dagger': 1, 'arrow': 12}\n",
    "\n",
    "def displayInventory(inventory):\n",
    "    print(\"Inventory:\")\n",
    "    item_total = 0\n",
    "    \n",
    "    for k, v in inventory.items():\n",
    "        print (f\"{k} {v}\")\n",
    "        item_total += v\n",
    "           \n",
    "    print(\"Total number of items: \" + str(item_total))\n",
    "\n",
    "displayInventory(stuff)"
   ]
  },
  {
   "cell_type": "raw",
   "id": "c9269f86-1972-45df-bb02-bfa7dedbb6ea",
   "metadata": {},
   "source": [
    "List to Dictionary Function for Fantasy Game Inventory\n",
    "Imagine that a vanquished dragon’s loot is represented as a list of strings like this:\n",
    "\n",
    "dragonLoot = ['gold coin', 'dagger', 'gold coin', 'gold coin', 'ruby']\n",
    "\n",
    "Write a function named addToInventory(inventory, addedItems), where the inventory parameter is a dictionary representing the player’s inventory (like in the previous project) and the addedItems parameter is a list like dragonLoot. The addToInventory() function should return a dictionary that represents the updated inventory. Note that the addedItems list can contain multiples of the same item. Your code could look something like this:\n",
    "\n",
    "def addToInventory(inventory, addedItems):\n",
    "    # your code goes here\n",
    "\n",
    "inv = {'gold coin': 42, 'rope': 1}\n",
    "dragonLoot = ['gold coin', 'dagger', 'gold coin', 'gold coin', 'ruby']\n",
    "inv = addToInventory(inv, dragonLoot)\n",
    "displayInventory(inv)\n",
    "\n",
    "The previous program (with your displayInventory() function from the previous project) would output the following:\n",
    "\n",
    "Inventory:\n",
    "45 gold coin\n",
    "1 rope\n",
    "1 ruby\n",
    "1 dagger\n",
    "\n",
    "Total number of items: 48"
   ]
  },
  {
   "cell_type": "code",
   "execution_count": 23,
   "id": "02790dc3-3a38-45a8-8f51-29279eecb15f",
   "metadata": {},
   "outputs": [
    {
     "name": "stdout",
     "output_type": "stream",
     "text": [
      "Inventory:\n",
      "gold coin 45\n",
      "rope 1\n",
      "dagger 1\n",
      "ruby 1\n",
      "Total number of items: 48\n"
     ]
    }
   ],
   "source": [
    "\n",
    "def addToInventory(inventory, addedItems):\n",
    "    \n",
    "    for one_item in addedItems:\n",
    "        inventory.setdefault(one_item, 0)\n",
    "        inventory[one_item] += 1\n",
    "    \n",
    "    return inventory\n",
    "    # your code goes here\n",
    "\n",
    "inv = {'gold coin': 42, 'rope': 1}\n",
    "dragonLoot = ['gold coin', 'dagger', 'gold coin', 'gold coin', 'ruby']\n",
    "inv = addToInventory(inv, dragonLoot)\n",
    "displayInventory(inv)\n",
    "\n"
   ]
  },
  {
   "cell_type": "code",
   "execution_count": null,
   "id": "73e79d24-2a6e-474c-a434-59a008301a30",
   "metadata": {},
   "outputs": [],
   "source": []
  }
 ],
 "metadata": {
  "kernelspec": {
   "display_name": "Python 3",
   "language": "python",
   "name": "python3"
  },
  "language_info": {
   "codemirror_mode": {
    "name": "ipython",
    "version": 3
   },
   "file_extension": ".py",
   "mimetype": "text/x-python",
   "name": "python",
   "nbconvert_exporter": "python",
   "pygments_lexer": "ipython3",
   "version": "3.9.4"
  }
 },
 "nbformat": 4,
 "nbformat_minor": 5
}
