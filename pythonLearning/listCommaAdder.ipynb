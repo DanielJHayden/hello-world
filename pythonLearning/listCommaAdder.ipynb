{
 "cells": [
  {
   "cell_type": "code",
   "execution_count": 121,
   "id": "c00d8ec9-ec5d-46cd-b8b4-0cd6ab456101",
   "metadata": {},
   "outputs": [
    {
     "name": "stdout",
     "output_type": "stream",
     "text": [
      "apples, bananas, , tofu,  , cats, ,and jimmy\n"
     ]
    }
   ],
   "source": [
    "#Comma Code\n",
    "#Say you have a list value like this:\n",
    "\n",
    "#spam = ['apples', 'bananas', 'tofu', 'cats']\n",
    "\n",
    "#Write a function that takes a list value as an argument and returns a string with all the items separated by a comma and a space, with and inserted before the last item.\n",
    "#For example, passing the previous spam list to the function would return 'apples, bananas, tofu, and cats'.\n",
    "#But your function should be able to work with any list value passed to it. Be sure to test the case where an empty list [] is passed to your function.\n",
    "\n",
    "spam = ['apples', 'bananas', '', 'tofu', ' ', 'cats', '','jimmy']\n",
    "nothing = []\n",
    "almost_nothing = [' ']\n",
    "def list_to_string(imp_list):\n",
    "    \"\"\"\n",
    "    Turns a list to a string concatenated by commas, ending with ',and' the final list item\n",
    "    \n",
    "    \"\"\"\n",
    "    if imp_list == []:\n",
    "        return imp_list\n",
    "    \n",
    "    out_string = ', '.join(imp_list[:-1])    \n",
    "    out_string += ',and ' + imp_list[-1]\n",
    "    \n",
    "    return out_string\n",
    "        \n",
    "print(list_to_string(spam))"
   ]
  }
 ],
 "metadata": {
  "kernelspec": {
   "display_name": "Python 3",
   "language": "python",
   "name": "python3"
  },
  "language_info": {
   "codemirror_mode": {
    "name": "ipython",
    "version": 3
   },
   "file_extension": ".py",
   "mimetype": "text/x-python",
   "name": "python",
   "nbconvert_exporter": "python",
   "pygments_lexer": "ipython3",
   "version": "3.9.4"
  }
 },
 "nbformat": 4,
 "nbformat_minor": 5
}
