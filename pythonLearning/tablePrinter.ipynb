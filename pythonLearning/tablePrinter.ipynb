{
 "cells": [
  {
   "cell_type": "raw",
   "id": "4e8ca8b3-a818-4bf1-9397-b790616c4dd8",
   "metadata": {},
   "source": [
    "Table Printer\n",
    "Write a function named printTable() that takes a list of lists of strings and displays it in a well-organized table with each column right-justified. Assume that all the inner lists will contain the same number of strings. For example, the value could look like this:\n",
    "\n",
    "tableData = [['apples', 'oranges', 'cherries', 'banana'],\n",
    "             ['Alice', 'Bob', 'Carol', 'David'],\n",
    "             ['dogs', 'cats', 'moose', 'goose']]\n",
    "\n",
    "Your printTable() function would print the following:\n",
    "\n",
    "   apples Alice  dogs\n",
    "  oranges   Bob  cats\n",
    " cherries Carol moose\n",
    "   banana David goose\n",
    "\n",
    "Hint: your code will first have to find the longest string in each of the inner lists so that the whole column can be wide enough to fit all the strings. You can store the maximum width of each column as a list of integers. The printTable() function can begin with colWidths = [0] * len(tableData), which will create a list containing the same number of 0 values as the number of inner lists in tableData. That way, colWidths[0] can store the width of the longest string in tableData[0], colWidths[1] can store the width of the longest string in tableData[1], and so on. You can then find the largest value in the colWidths list to find out what integer width to pass to the rjust() string method."
   ]
  },
  {
   "cell_type": "code",
   "execution_count": 89,
   "id": "23596e8b-7eeb-4931-80bc-3434f0c39f5a",
   "metadata": {},
   "outputs": [
    {
     "name": "stdout",
     "output_type": "stream",
     "text": [
      "  apples Alice  dogs \n",
      " oranges   Bob  cats \n",
      "cherries Carol moose \n",
      "  banana David goose \n"
     ]
    }
   ],
   "source": [
    "picnic = [['apples', 'oranges', 'cherries', 'banana'],\n",
    "             ['Alice', 'Bob', 'Carol', 'David'],\n",
    "             ['dogs', 'cats', 'moose', 'goose']]\n",
    "\n",
    "def printTable(tableData):\n",
    "\n",
    "    def getWidths(tableData):\n",
    "        \n",
    "        colWidths = [0] * len(tableData)\n",
    "\n",
    "        for i in range(len(tableData)):\n",
    "\n",
    "            for one_string in tableData[i]:\n",
    "\n",
    "                if colWidths[i] < len(one_string):\n",
    "                    colWidths[i] = len(one_string)\n",
    "        return colWidths\n",
    "    \n",
    "    def getWidthHeight(tableData):\n",
    "        \n",
    "        width = len(tableData) \n",
    "        height = len(tableData[0])\n",
    "        return (width,height)\n",
    "        \n",
    "    def rjustPrint(tableData, colWidths):\n",
    "        \n",
    "        width, height = getWidthHeight(tableData)\n",
    "\n",
    "        for y in range(height):\n",
    "\n",
    "            for x in range(width):\n",
    "\n",
    "                currentWord = (tableData[x][y])\n",
    "                print(currentWord.rjust(colWidths[x]), end=' ')\n",
    "\n",
    "            print()\n",
    "            \n",
    "    rjustPrint(tableData, getWidths(tableData))\n",
    "\n",
    "printTable(picnic)\n",
    "            \n",
    "        \n",
    "            "
   ]
  }
 ],
 "metadata": {
  "kernelspec": {
   "display_name": "Python 3",
   "language": "python",
   "name": "python3"
  },
  "language_info": {
   "codemirror_mode": {
    "name": "ipython",
    "version": 3
   },
   "file_extension": ".py",
   "mimetype": "text/x-python",
   "name": "python",
   "nbconvert_exporter": "python",
   "pygments_lexer": "ipython3",
   "version": "3.9.4"
  }
 },
 "nbformat": 4,
 "nbformat_minor": 5
}
