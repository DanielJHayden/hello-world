{
 "cells": [
  {
   "cell_type": "raw",
   "id": "5d8690f6-5765-47fe-b293-228ce7677ad0",
   "metadata": {},
   "source": [
    "Strong Password Detection\n",
    "Write a function that uses regular expressions to make sure the password string it is passed is strong.\n",
    "A strong password is defined as one that is at least eight characters long,\n",
    "contains both uppercase and lowercase characters,\n",
    "and has at least one digit. \n",
    "You may need to test the string against multiple regex patterns to validate its strength."
   ]
  },
  {
   "cell_type": "code",
   "execution_count": 26,
   "id": "be09df9f-8da2-4679-b7ff-5abdd2298155",
   "metadata": {},
   "outputs": [
    {
     "data": {
      "text/plain": [
       "True"
      ]
     },
     "execution_count": 26,
     "metadata": {},
     "output_type": "execute_result"
    }
   ],
   "source": [
    "def strong_password_detector(password):\n",
    "    '''\n",
    "    Returns True/False , evaluating a password string as \"strong\" or not.\n",
    "    Rules for strong password: \n",
    "    at least one character uppercase, lowercase, digit\n",
    "    at least 8 characters\n",
    "    '''\n",
    "    import re\n",
    "    lower_case_checker = re.compile(r'[a-z]+')\n",
    "    upper_case_checker = re.compile(r'[A-Z]+')\n",
    "    at_least_one_digit_checker = re.compile(r'\\d')\n",
    "    \n",
    "    if len(password) > 7 \\\n",
    "    and lower_case_checker.search(password) \\\n",
    "    and upper_case_checker.search(password) \\\n",
    "    and at_least_one_digit_checker.search(password):\n",
    "        return True\n",
    "    else:\n",
    "        return False\n",
    "    \n",
    "password = 'Jimmythefish1'\n",
    "strong_password_detector(password)"
   ]
  },
  {
   "cell_type": "code",
   "execution_count": null,
   "id": "9f8308eb-9230-45a4-aa6e-4358cc2d27ce",
   "metadata": {},
   "outputs": [],
   "source": []
  }
 ],
 "metadata": {
  "kernelspec": {
   "display_name": "Python 3",
   "language": "python",
   "name": "python3"
  },
  "language_info": {
   "codemirror_mode": {
    "name": "ipython",
    "version": 3
   },
   "file_extension": ".py",
   "mimetype": "text/x-python",
   "name": "python",
   "nbconvert_exporter": "python",
   "pygments_lexer": "ipython3",
   "version": "3.9.4"
  }
 },
 "nbformat": 4,
 "nbformat_minor": 5
}
