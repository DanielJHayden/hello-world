{
 "cells": [
  {
   "cell_type": "code",
   "execution_count": 1,
   "id": "3120a3b2-751d-4312-8f3c-50a95bbbad85",
   "metadata": {},
   "outputs": [],
   "source": [
    "def discwrap(imp, out):\n",
    "    \"\"\"\n",
    "    Outputs a txt formatted to linebreak nicely with discord's in-app viewer.\n",
    "    Requires: Filename of text to be formatted, filename of output.\n",
    "    New .txt encodes to UTF-8\n",
    "    \"\"\"\n",
    "    with open(imp, 'r', encoding='UTF-8') as wrap_input, open(out, 'w', encoding='UTF-8') as wrap_output:\n",
    "        \n",
    "        for one_line in wrap_input:\n",
    "            char_count = 0\n",
    "            \n",
    "            for one_item in one_line.split():\n",
    "                char_count += len(one_item)\n",
    "                \n",
    "                if char_count > 120:\n",
    "                    wrap_output.write('\\n')\n",
    "                    char_count = 0\n",
    "                    \n",
    "                wrap_output.write(f'{one_item} ')\n",
    "            wrap_output.write('\\n')\n",
    "            \n",
    "discwrap('vord5.txt', 'vorddisc5.txt')\n",
    "    "
   ]
  },
  {
   "cell_type": "code",
   "execution_count": null,
   "id": "b66c0eb4-4136-48ae-b9df-dcb26305ec36",
   "metadata": {},
   "outputs": [],
   "source": []
  }
 ],
 "metadata": {
  "kernelspec": {
   "display_name": "Python 3",
   "language": "python",
   "name": "python3"
  },
  "language_info": {
   "codemirror_mode": {
    "name": "ipython",
    "version": 3
   },
   "file_extension": ".py",
   "mimetype": "text/x-python",
   "name": "python",
   "nbconvert_exporter": "python",
   "pygments_lexer": "ipython3",
   "version": "3.9.4"
  }
 },
 "nbformat": 4,
 "nbformat_minor": 5
}
