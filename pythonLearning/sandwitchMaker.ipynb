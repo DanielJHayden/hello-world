{
 "cells": [
  {
   "cell_type": "raw",
   "id": "8a0af206-bde2-4ad1-8c3e-dc0a0956c412",
   "metadata": {},
   "source": [
    "Sandwich Maker\n",
    "Write a program that asks users for their sandwich preferences. The program should use PyInputPlus to ensure that they enter valid input, such as:\n",
    "\n",
    "Using inputMenu() for a bread type: wheat, white, or sourdough.\n",
    "Using inputMenu() for a protein type: chicken, turkey, ham, or tofu.\n",
    "Using inputYesNo() to ask if they want cheese.\n",
    "If so, using inputMenu() to ask for a cheese type: cheddar, Swiss, or mozzarella.\n",
    "Using inputYesNo() to ask if they want mayo, mustard, lettuce, or tomato.\n",
    "Using inputInt() to ask how many sandwiches they want. Make sure this number is 1 or more.\n",
    "Come up with prices for each of these options, and have your program display a total cost after the user enters their selection."
   ]
  },
  {
   "cell_type": "code",
   "execution_count": null,
   "id": "71cc93f3-0d37-4267-8547-33ebef704747",
   "metadata": {},
   "outputs": [],
   "source": [
    "import pyinputplus as pyip\n",
    "bread_dict = {'wheat' : 1, 'white' : 1, 'sourdough' : 3}\n",
    "protein_dict = {'chicken' : 2, 'turkey' : 4, 'ham' : 1, 'tofu' : 6}\n",
    "cheese_dict = {'cheddar' : 1, 'swiss' : 2, 'mozzarella' : 0}\n",
    "current_total = 0\n",
    "\n",
    "bread = pyip.inputMenu(list(bread_dict.keys()))\n",
    "current_total += bread_dict[bread]\n",
    "protein = pyip.inputMenu(list(protein_dict.keys()))\n",
    "current_total += protein_dict[protein]\n",
    "\n",
    "if pyip.inputYesNo('Add Cheese?') == 'yes':\n",
    "    cheese = pyip.inputMenu(list(cheese_dict.keys()))\n",
    "    current_total += cheese_dict[cheese]\n",
    "    \n",
    "mayo = pyip.inputYesNo('Add mayo?')\n",
    "mustard = pyip.inputYesNo('Add Mustard?')\n",
    "lettuce = pyip.inputYesNo('Add Lettuce?')\n",
    "tomato = pyip.inputYesNo('Add Tomato?')\n",
    "sandwitch_quantity = pyip.inputInt('Enter number of sandwitches desired:')\n",
    "\n",
    "print(f\"You're total comes to ${sandwitch_quantity * current_total}\")"
   ]
  },
  {
   "cell_type": "code",
   "execution_count": null,
   "id": "cc760284-1fa5-45f3-8e68-f89f7ea99adc",
   "metadata": {},
   "outputs": [],
   "source": []
  }
 ],
 "metadata": {
  "kernelspec": {
   "display_name": "Python 3",
   "language": "python",
   "name": "python3"
  },
  "language_info": {
   "codemirror_mode": {
    "name": "ipython",
    "version": 3
   },
   "file_extension": ".py",
   "mimetype": "text/x-python",
   "name": "python",
   "nbconvert_exporter": "python",
   "pygments_lexer": "ipython3",
   "version": "3.9.4"
  }
 },
 "nbformat": 4,
 "nbformat_minor": 5
}
