{
 "cells": [
  {
   "cell_type": "code",
   "execution_count": 3,
   "id": "1499fe8d-05db-4285-8631-039da59a9133",
   "metadata": {},
   "outputs": [
    {
     "name": "stdout",
     "output_type": "stream",
     "text": [
      "e\n",
      "Your knife crushes The Bad Guy's spine.\n",
      "e\n",
      "Your knife skewers The Bad Guy's eyes.\n",
      "e\n",
      "Your sword skewers The Bad Guy's eyes.\n",
      "e\n",
      "Your axe destroys The Bad Guy's chest!\n",
      "e\n",
      "Your mace skewers The Bad Guy's skull!\n",
      "e\n",
      "Your pole-arm smashes The Bad Guy's groin!!\n",
      "e\n",
      "Your mace smashes The Bad Guy's eyes!!\n",
      "e\n",
      "Your knife skewers The Bad Guy's eye!\n",
      "e\n",
      "Your pole-arm slices The Bad Guy's leg!\n",
      "e\n",
      "Your knife skewers The Bad Guy's skull!!\n",
      "e\n",
      "Your sword mangles The Bad Guy's groin!!\n",
      "e\n",
      "Your sword destroys The Bad Guy's skull!!\n",
      "e\n",
      "Your knife shreds The Bad Guy's eye!\n",
      "e\n",
      "Your shield crushes The Bad Guy's head!!\n",
      "e\n",
      "Your mace smashes The Bad Guy's leg.\n",
      "e\n",
      "Your pole-arm crushes The Bad Guy's head!\n",
      "e\n",
      "Your knife crushes The Bad Guy's eye.\n",
      "e\n",
      "Your pole-arm shreds The Bad Guy's brain.\n",
      "e\n",
      "Your knife smashes The Bad Guy's groin!!\n",
      "e\n",
      "Your sword shreds The Bad Guy's brain!\n"
     ]
    },
    {
     "ename": "NameError",
     "evalue": "name 'senten' is not defined",
     "output_type": "error",
     "traceback": [
      "\u001b[1;31m---------------------------------------------------------------------------\u001b[0m",
      "\u001b[1;31mNameError\u001b[0m                                 Traceback (most recent call last)",
      "\u001b[1;32m<ipython-input-3-0fabd8dc0009>\u001b[0m in \u001b[0;36m<module>\u001b[1;34m\u001b[0m\n\u001b[0;32m     20\u001b[0m \u001b[1;32mfor\u001b[0m \u001b[0mi\u001b[0m \u001b[1;32min\u001b[0m \u001b[0mrange\u001b[0m\u001b[1;33m(\u001b[0m\u001b[1;36m0\u001b[0m\u001b[1;33m,\u001b[0m\u001b[1;36m20\u001b[0m\u001b[1;33m)\u001b[0m\u001b[1;33m:\u001b[0m\u001b[1;33m\u001b[0m\u001b[1;33m\u001b[0m\u001b[0m\n\u001b[0;32m     21\u001b[0m     \u001b[0mprint\u001b[0m \u001b[1;33m(\u001b[0m\u001b[0msentence_assembler\u001b[0m\u001b[1;33m(\u001b[0m\u001b[1;33m)\u001b[0m\u001b[1;33m)\u001b[0m\u001b[1;33m\u001b[0m\u001b[1;33m\u001b[0m\u001b[0m\n\u001b[1;32m---> 22\u001b[1;33m \u001b[0mprint\u001b[0m \u001b[1;33m(\u001b[0m\u001b[0msenten\u001b[0m\u001b[1;33m)\u001b[0m\u001b[1;33m\u001b[0m\u001b[1;33m\u001b[0m\u001b[0m\n\u001b[0m\u001b[0;32m     23\u001b[0m \u001b[1;33m\u001b[0m\u001b[0m\n\u001b[0;32m     24\u001b[0m \u001b[1;33m\u001b[0m\u001b[0m\n",
      "\u001b[1;31mNameError\u001b[0m: name 'senten' is not defined"
     ]
    }
   ],
   "source": [
    "\n",
    "weapon_type = ['axe', 'sword', 'mace', 'shield', 'knife', 'pole-arm']\n",
    "combat_verb = ['crushes', 'smashes', 'slices', 'destroys', 'mangles', 'skewers', 'shreds']\n",
    "npc = [\"The Bad Guy's\"]\n",
    "location = ['arm', 'leg', 'chest', 'head', 'groin', 'brain', 'eye', 'eyes', 'spine', 'heart', 'skull']\n",
    "punctuation = ['.', '!', '!!']\n",
    "\n",
    "def sentence_assembler(combat_sentence = ''):\n",
    "    import random\n",
    "    \n",
    "    combat_sentence +=('Your ' \n",
    "    + random.choice(weapon_type) + ' '\n",
    "    + random.choice(combat_verb) + ' '\n",
    "    + random.choice(npc) + ' '\n",
    "    + random.choice(location)\n",
    "    + random.choice(punctuation))\n",
    "    \n",
    "    print (weapon_type[0][2])\n",
    "    \n",
    "    return combat_sentence\n",
    "for i in range(0,20):\n",
    "    print (sentence_assembler())\n",
    "print (senten)\n",
    "    \n",
    "\n",
    "\n"
   ]
  },
  {
   "cell_type": "code",
   "execution_count": null,
   "id": "2f0c52b4-1f03-4cde-83ec-468e1b303fbe",
   "metadata": {},
   "outputs": [],
   "source": []
  }
 ],
 "metadata": {
  "kernelspec": {
   "display_name": "Python 3",
   "language": "python",
   "name": "python3"
  },
  "language_info": {
   "codemirror_mode": {
    "name": "ipython",
    "version": 3
   },
   "file_extension": ".py",
   "mimetype": "text/x-python",
   "name": "python",
   "nbconvert_exporter": "python",
   "pygments_lexer": "ipython3",
   "version": "3.9.4"
  }
 },
 "nbformat": 4,
 "nbformat_minor": 5
}
