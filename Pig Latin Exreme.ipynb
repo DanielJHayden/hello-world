{
 "cells": [
  {
   "cell_type": "code",
   "execution_count": 20,
   "id": "02136c1d-8cf2-4306-a8b6-d4eb56e33792",
   "metadata": {},
   "outputs": [],
   "source": [
    "def pig_lagtin_translator(input_file_name):\n",
    "    \"\"\"\n",
    "    Requires: txt filename string to be translated\n",
    "    Produces: txt 'piglatin_filename'of pig latin translated text    \n",
    "    \n",
    "    \"\"\"\n",
    "    \n",
    "    with open(input_file_name) as piginput, open('piglatin'+input_file_name, 'w') as pigoutput:\n",
    "        for one_line in piginput:\n",
    "            \n",
    "            for one_item in one_line.split(\" \"):\n",
    "                punctuation = ' '\n",
    "                \n",
    "                if one_item == '\\n':\n",
    "                    pigoutput.write(one_item)\n",
    "                    continue\n",
    "                    \n",
    "                if one_item[-1] in '!?:;.,':\n",
    "                    punctuation = one_item [-1] + ' '\n",
    "                    one_item = one_item[0:-2]\n",
    "                \n",
    "                if one_item.lower()[0] in 'aeiou':\n",
    "                    one_item += 'way' + punctuation\n",
    "                    \n",
    "                else:\n",
    "                    one_item = one_item[1:] + one_item[0] + 'ay' + punctuation\n",
    "                pigoutput.write(one_item)\n",
    "        \n",
    "pig_lagtin_translator('Pigs.txt')"
   ]
  },
  {
   "cell_type": "code",
   "execution_count": 21,
   "id": "1547f48f-c80e-466d-9ec4-1145e966e572",
   "metadata": {},
   "outputs": [
    {
     "name": "stdout",
     "output_type": "stream",
     "text": [
      "ouYay heatedcay otnay onlyway hetay amgay, utbay ourselyay. \n",
      "ouYay idn'tday rogay. \n",
      "ouYay idn'tday improvway. \n",
      "ouYay ooktay away hortcutsay andway ainedgay othinnay. \n",
      "ouYay experiencedway away ollowhay ictorvay. \n",
      "othingNay asway iskedray andway othingnay asway ainegay. \n",
      "It'sway adsay hattay ouyay on'tday nowkay hetay ifferencday. \n"
     ]
    }
   ],
   "source": [
    "!type piglatinPigs.txt"
   ]
  },
  {
   "cell_type": "code",
   "execution_count": null,
   "id": "8a1e615f-24cb-42d8-805a-4a42bb29428b",
   "metadata": {},
   "outputs": [],
   "source": []
  }
 ],
 "metadata": {
  "kernelspec": {
   "display_name": "Python 3",
   "language": "python",
   "name": "python3"
  },
  "language_info": {
   "codemirror_mode": {
    "name": "ipython",
    "version": 3
   },
   "file_extension": ".py",
   "mimetype": "text/x-python",
   "name": "python",
   "nbconvert_exporter": "python",
   "pygments_lexer": "ipython3",
   "version": "3.9.4"
  }
 },
 "nbformat": 4,
 "nbformat_minor": 5
}
